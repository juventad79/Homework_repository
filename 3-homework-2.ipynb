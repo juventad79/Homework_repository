{
 "cells": [
  {
   "cell_type": "code",
   "execution_count": null,
   "id": "315e3cab-d72a-407c-8990-8498a9e7ce95",
   "metadata": {},
   "outputs": [],
   "source": [
    "# easy Поиск повторяющихся элементов"
   ]
  },
  {
   "cell_type": "code",
   "execution_count": 1,
   "id": "a9caa1f5-7ab6-4148-a5f7-dbad9196d0e1",
   "metadata": {},
   "outputs": [
    {
     "name": "stdout",
     "output_type": "stream",
     "text": [
      "['hello', 1]\n"
     ]
    }
   ],
   "source": [
    "l = [1,4,1,6,'hello','a',5,'hello']\n",
    "itog = []\n",
    "i = 0\n",
    "for i in range(0, len(l)):\n",
    "    s = l.pop()\n",
    "    if (s in l)&(s not in itog):\n",
    "        itog.append(s)\n",
    "print(itog)"
   ]
  },
  {
   "cell_type": "code",
   "execution_count": null,
   "id": "59e4206b-bbbb-44a9-8022-8acf2a54f99a",
   "metadata": {},
   "outputs": [],
   "source": [
    "# normal Поиск максимального числа в матрице"
   ]
  },
  {
   "cell_type": "code",
   "execution_count": 2,
   "id": "cc7597f1-9211-4682-aa37-2f14e5f5b499",
   "metadata": {},
   "outputs": [
    {
     "name": "stdout",
     "output_type": "stream",
     "text": [
      "[[89, 75, 20, 80, 86], [36, 49, 25, 15, 30], [89, 48, 64, 88, 92], [44, 20, 9, 48, 49], [41, 8, 45, 96, 17]]\n",
      "96\n"
     ]
    }
   ],
   "source": [
    "from random import randint\n",
    "n = 5\n",
    "m = [[randint(0,100) for i in range(n)] for j in range(n)]\n",
    "max_j = []\n",
    "print(m)\n",
    "max_i = 0\n",
    "for i in range(0,n):\n",
    "    max_i = max(m[i])\n",
    "    max_j.append(max_i)  \n",
    "print(max(max_j))"
   ]
  },
  {
   "cell_type": "code",
   "execution_count": 3,
   "id": "175a499b-c689-452e-9350-47027cc63ec5",
   "metadata": {},
   "outputs": [],
   "source": [
    "# hard Меняем местами ключи и значения"
   ]
  },
  {
   "cell_type": "code",
   "execution_count": 4,
   "id": "18dbe213-58da-4258-83ce-bf7a3a18f7e9",
   "metadata": {},
   "outputs": [
    {
     "name": "stdout",
     "output_type": "stream",
     "text": [
      "{'id1': 'name1', 'id2': 'name2', 'id3': 'name3'}\n"
     ]
    }
   ],
   "source": [
    "d = {'name1': 'id1', 'name2': 'id2', 'name3': 'id3'}\n",
    "k=tuple(d.keys())\n",
    "v=tuple(d.values())\n",
    "dictionary = dict(zip(v, k))\n",
    "d=dictionary\n",
    "print(d)"
   ]
  },
  {
   "cell_type": "code",
   "execution_count": null,
   "id": "19d4363c-fbd7-42ef-a910-32f0fd554492",
   "metadata": {},
   "outputs": [],
   "source": []
  }
 ],
 "metadata": {
  "kernelspec": {
   "display_name": "Python 3 (ipykernel)",
   "language": "python",
   "name": "python3"
  },
  "language_info": {
   "codemirror_mode": {
    "name": "ipython",
    "version": 3
   },
   "file_extension": ".py",
   "mimetype": "text/x-python",
   "name": "python",
   "nbconvert_exporter": "python",
   "pygments_lexer": "ipython3",
   "version": "3.10.8"
  }
 },
 "nbformat": 4,
 "nbformat_minor": 5
}
