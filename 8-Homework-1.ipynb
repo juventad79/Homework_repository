{
 "cells": [
  {
   "cell_type": "markdown",
   "id": "e2df36d8",
   "metadata": {},
   "source": [
    "Easy\n",
    "Вычислить вероятность выживания, если пассажиру:"
   ]
  },
  {
   "cell_type": "code",
   "execution_count": 5,
   "id": "ec762dd2",
   "metadata": {},
   "outputs": [
    {
     "data": {
      "text/html": [
       "<div>\n",
       "<style scoped>\n",
       "    .dataframe tbody tr th:only-of-type {\n",
       "        vertical-align: middle;\n",
       "    }\n",
       "\n",
       "    .dataframe tbody tr th {\n",
       "        vertical-align: top;\n",
       "    }\n",
       "\n",
       "    .dataframe thead th {\n",
       "        text-align: right;\n",
       "    }\n",
       "</style>\n",
       "<table border=\"1\" class=\"dataframe\">\n",
       "  <thead>\n",
       "    <tr style=\"text-align: right;\">\n",
       "      <th></th>\n",
       "      <th>PassengerId</th>\n",
       "      <th>Survived</th>\n",
       "      <th>Pclass</th>\n",
       "      <th>Name</th>\n",
       "      <th>Sex</th>\n",
       "      <th>Age</th>\n",
       "      <th>SibSp</th>\n",
       "      <th>Parch</th>\n",
       "      <th>Ticket</th>\n",
       "      <th>Fare</th>\n",
       "      <th>Cabin</th>\n",
       "      <th>Embarked</th>\n",
       "    </tr>\n",
       "  </thead>\n",
       "  <tbody>\n",
       "    <tr>\n",
       "      <th>0</th>\n",
       "      <td>1</td>\n",
       "      <td>0</td>\n",
       "      <td>3</td>\n",
       "      <td>Braund, Mr. Owen Harris</td>\n",
       "      <td>male</td>\n",
       "      <td>22.0</td>\n",
       "      <td>1</td>\n",
       "      <td>0</td>\n",
       "      <td>A/5 21171</td>\n",
       "      <td>7.2500</td>\n",
       "      <td>NaN</td>\n",
       "      <td>S</td>\n",
       "    </tr>\n",
       "    <tr>\n",
       "      <th>1</th>\n",
       "      <td>2</td>\n",
       "      <td>1</td>\n",
       "      <td>1</td>\n",
       "      <td>Cumings, Mrs. John Bradley (Florence Briggs Th...</td>\n",
       "      <td>female</td>\n",
       "      <td>38.0</td>\n",
       "      <td>1</td>\n",
       "      <td>0</td>\n",
       "      <td>PC 17599</td>\n",
       "      <td>71.2833</td>\n",
       "      <td>C85</td>\n",
       "      <td>C</td>\n",
       "    </tr>\n",
       "    <tr>\n",
       "      <th>2</th>\n",
       "      <td>3</td>\n",
       "      <td>1</td>\n",
       "      <td>3</td>\n",
       "      <td>Heikkinen, Miss. Laina</td>\n",
       "      <td>female</td>\n",
       "      <td>26.0</td>\n",
       "      <td>0</td>\n",
       "      <td>0</td>\n",
       "      <td>STON/O2. 3101282</td>\n",
       "      <td>7.9250</td>\n",
       "      <td>NaN</td>\n",
       "      <td>S</td>\n",
       "    </tr>\n",
       "    <tr>\n",
       "      <th>3</th>\n",
       "      <td>4</td>\n",
       "      <td>1</td>\n",
       "      <td>1</td>\n",
       "      <td>Futrelle, Mrs. Jacques Heath (Lily May Peel)</td>\n",
       "      <td>female</td>\n",
       "      <td>35.0</td>\n",
       "      <td>1</td>\n",
       "      <td>0</td>\n",
       "      <td>113803</td>\n",
       "      <td>53.1000</td>\n",
       "      <td>C123</td>\n",
       "      <td>S</td>\n",
       "    </tr>\n",
       "    <tr>\n",
       "      <th>4</th>\n",
       "      <td>5</td>\n",
       "      <td>0</td>\n",
       "      <td>3</td>\n",
       "      <td>Allen, Mr. William Henry</td>\n",
       "      <td>male</td>\n",
       "      <td>35.0</td>\n",
       "      <td>0</td>\n",
       "      <td>0</td>\n",
       "      <td>373450</td>\n",
       "      <td>8.0500</td>\n",
       "      <td>NaN</td>\n",
       "      <td>S</td>\n",
       "    </tr>\n",
       "  </tbody>\n",
       "</table>\n",
       "</div>"
      ],
      "text/plain": [
       "   PassengerId  Survived  Pclass  \\\n",
       "0            1         0       3   \n",
       "1            2         1       1   \n",
       "2            3         1       3   \n",
       "3            4         1       1   \n",
       "4            5         0       3   \n",
       "\n",
       "                                                Name     Sex   Age  SibSp  \\\n",
       "0                            Braund, Mr. Owen Harris    male  22.0      1   \n",
       "1  Cumings, Mrs. John Bradley (Florence Briggs Th...  female  38.0      1   \n",
       "2                             Heikkinen, Miss. Laina  female  26.0      0   \n",
       "3       Futrelle, Mrs. Jacques Heath (Lily May Peel)  female  35.0      1   \n",
       "4                           Allen, Mr. William Henry    male  35.0      0   \n",
       "\n",
       "   Parch            Ticket     Fare Cabin Embarked  \n",
       "0      0         A/5 21171   7.2500   NaN        S  \n",
       "1      0          PC 17599  71.2833   C85        C  \n",
       "2      0  STON/O2. 3101282   7.9250   NaN        S  \n",
       "3      0            113803  53.1000  C123        S  \n",
       "4      0            373450   8.0500   NaN        S  "
      ]
     },
     "execution_count": 5,
     "metadata": {},
     "output_type": "execute_result"
    }
   ],
   "source": [
    "import pandas as pd\n",
    "tit_df = pd.read_csv('data/train.csv')\n",
    "tit_df.head()"
   ]
  },
  {
   "cell_type": "markdown",
   "id": "93cbee31",
   "metadata": {},
   "source": [
    "от 0 до 25"
   ]
  },
  {
   "cell_type": "code",
   "execution_count": 26,
   "id": "49730c98",
   "metadata": {},
   "outputs": [
    {
     "name": "stdout",
     "output_type": "stream",
     "text": [
      "124\n",
      "301\n"
     ]
    }
   ],
   "source": [
    "tit_0_25_surv = tit_df[(tit_df['Age'] >= 0) & (tit_df['Age'] <= 25) & (tit_df['Survived'] == 1)]\n",
    "tit_0_25_all = tit_df[(tit_df['Age'] >= 0) & (tit_df['Age'] <= 25) ]\n",
    "#благопрятных исходов\n",
    "print(len(tit_0_25_surv))\n",
    "#всего исходов\n",
    "print(len(tit_0_25_all))\n",
    "#вероятность\n",
    "p_0_25_surv = round(len(tit_0_25_surv)/len(tit_0_25_all), 2)\n"
   ]
  },
  {
   "cell_type": "markdown",
   "id": "4015a8a1",
   "metadata": {},
   "source": [
    "от 25 до 50 лет"
   ]
  },
  {
   "cell_type": "code",
   "execution_count": 25,
   "id": "042849b5",
   "metadata": {},
   "outputs": [
    {
     "name": "stdout",
     "output_type": "stream",
     "text": [
      "144\n",
      "349\n"
     ]
    }
   ],
   "source": [
    "tit_26_50_surv = tit_df[(tit_df['Age'] > 25) & (tit_df['Age'] <= 50) & (tit_df['Survived'] == 1)]\n",
    "tit_26_50_all = tit_df[(tit_df['Age'] > 25) & (tit_df['Age'] <= 50) ]\n",
    "#благопрятных исходов\n",
    "print(len(tit_26_50_surv))\n",
    "#всего исходов\n",
    "print(len(tit_26_50_all))\n",
    "#вероятность\n",
    "p_25_50_surv = round(len(tit_26_50_surv)/len(tit_26_50_all), 2)"
   ]
  },
  {
   "cell_type": "markdown",
   "id": "b5fea1e2",
   "metadata": {},
   "source": [
    "от 50 лет и старше"
   ]
  },
  {
   "cell_type": "code",
   "execution_count": 24,
   "id": "735feba8",
   "metadata": {},
   "outputs": [
    {
     "name": "stdout",
     "output_type": "stream",
     "text": [
      "22\n",
      "64\n"
     ]
    }
   ],
   "source": [
    "tit_51_surv = tit_df[(tit_df['Age'] > 50) & (tit_df['Survived'] == 1)]\n",
    "tit_51_all = tit_df[(tit_df['Age'] > 50)]\n",
    "#благопрятных исходов\n",
    "print(len(tit_51_surv))\n",
    "#всего исходов\n",
    "print(len(tit_51_all))\n",
    "#вероятность\n",
    "p_50_surv = round(len(tit_51_surv)/len(tit_51_all), 2)"
   ]
  },
  {
   "cell_type": "code",
   "execution_count": 28,
   "id": "232d4904",
   "metadata": {},
   "outputs": [
    {
     "name": "stdout",
     "output_type": "stream",
     "text": [
      "Вероятность выживания если ты \n",
      "от 0 до 25 : 0.41\n",
      "от 25 до 25: 0.41\n",
      "больше 50  : 0.34\n"
     ]
    }
   ],
   "source": [
    "print('Вероятность выживания если ты ')\n",
    "print('от 0 до 25 :' , p_0_25_surv)\n",
    "print('от 25 до 25:' , p_25_50_surv)\n",
    "print('больше 50  :' , p_50_surv)"
   ]
  }
 ],
 "metadata": {
  "kernelspec": {
   "display_name": "Python 3 (ipykernel)",
   "language": "python",
   "name": "python3"
  },
  "language_info": {
   "codemirror_mode": {
    "name": "ipython",
    "version": 3
   },
   "file_extension": ".py",
   "mimetype": "text/x-python",
   "name": "python",
   "nbconvert_exporter": "python",
   "pygments_lexer": "ipython3",
   "version": "3.10.8"
  }
 },
 "nbformat": 4,
 "nbformat_minor": 5
}
