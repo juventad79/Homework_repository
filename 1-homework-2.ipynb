{
 "cells": [
  {
   "cell_type": "code",
   "execution_count": null,
   "id": "a6cb4f06",
   "metadata": {},
   "outputs": [],
   "source": [
    "# Easy\n",
    "Проверка на количество одинаковых целочисленных цифр"
   ]
  },
  {
   "cell_type": "code",
   "execution_count": null,
   "id": "f38bd0b9",
   "metadata": {},
   "outputs": [],
   "source": [
    "i1=int(input('Введите первое число '))\n",
    "i2=int(input('Введите второе число ')) \n",
    "i3=int(input('Введите третье число ')) \n",
    "i=0\n",
    "if (i1==i2) and (i1==i3): i=3 \n",
    "elif (i1==i2)|(i1==i3)|(i2==i3):i=2\n",
    "\n",
    "print(i)"
   ]
  },
  {
   "cell_type": "code",
   "execution_count": null,
   "id": "bc864144",
   "metadata": {},
   "outputs": [],
   "source": [
    "# Normal\n",
    "Возможность хода шахматной ладьи из ячейки 1 в ячейку 2"
   ]
  },
  {
   "cell_type": "code",
   "execution_count": null,
   "id": "9396bff8",
   "metadata": {},
   "outputs": [],
   "source": [
    "a1=int(input())\n",
    "b1=int(input())\n",
    "a2=int(input())\n",
    "b2=int(input())\n",
    "i=0\n",
    "if (a1==a2): i=1\n",
    "if (b1==b2): i=1\n",
    "if abs(a1-b1)==abs(a2-b2): i=1\n",
    "if i: print('YES')\n",
    "else: print('NO')\n"
   ]
  },
  {
   "cell_type": "code",
   "execution_count": null,
   "id": "d8788f48",
   "metadata": {},
   "outputs": [],
   "source": [
    "# Hard\n",
    "Проверка на правильность введенного пароля (больше 8 символов и разный регистр)"
   ]
  },
  {
   "cell_type": "code",
   "execution_count": null,
   "id": "47635819",
   "metadata": {},
   "outputs": [],
   "source": [
    "i=0\n",
    "while i!=1:\n",
    "    s=input('Введите пароль')\n",
    "    sU=s.upper()\n",
    "    sL=s.lower()\n",
    "    if len(s)<8: print('Длина пароля меньше 8 символов. Попробуйте ещё раз')\n",
    "    elif (s==sU)|(s==sL): print('Пароль должен содержать прописные и заглавные буквы. Попробуйте ещё раз')\n",
    "    else: i=1\n",
    "print('Вы ввели подходящий пароль. Вы молодец:)')"
   ]
  }
 ],
 "metadata": {
  "kernelspec": {
   "display_name": "Python 3 (ipykernel)",
   "language": "python",
   "name": "python3"
  },
  "language_info": {
   "codemirror_mode": {
    "name": "ipython",
    "version": 3
   },
   "file_extension": ".py",
   "mimetype": "text/x-python",
   "name": "python",
   "nbconvert_exporter": "python",
   "pygments_lexer": "ipython3",
   "version": "3.10.8"
  }
 },
 "nbformat": 4,
 "nbformat_minor": 5
}
