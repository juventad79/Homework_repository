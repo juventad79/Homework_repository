{
 "cells": [
  {
   "cell_type": "markdown",
   "id": "f15dcbdf",
   "metadata": {},
   "source": [
    "Закон распределения задается функцией плотности\n",
    "$ f(x) = \\lambda e^{-\\lambda x}, x > 0 $\n",
    "$ f(x) = 0, x <= 0 $\n",
    "Найти вероятность того, что событие произойдет при x∈[1,2]"
   ]
  },
  {
   "cell_type": "code",
   "execution_count": null,
   "id": "38d5817d",
   "metadata": {},
   "outputs": [],
   "source": [
    "import math\n",
    "import scipy.integrate\n",
    "def user_function(x):\n",
    "    return lamb * math.exp(-lamb * x)"
   ]
  },
  {
   "cell_type": "code",
   "execution_count": 13,
   "id": "c1f47c3e",
   "metadata": {},
   "outputs": [
    {
     "name": "stdout",
     "output_type": "stream",
     "text": [
      "(0.22206792533574565, 2.4654492373848496e-15)\n"
     ]
    }
   ],
   "source": [
    "lamb = 1.1\n",
    "res = scipy.integrate.quad(user_function,1,2)\n",
    "print(res)"
   ]
  },
  {
   "cell_type": "code",
   "execution_count": 15,
   "id": "8f63f08b",
   "metadata": {},
   "outputs": [
    {
     "name": "stdout",
     "output_type": "stream",
     "text": [
      "(0.23254415793482963, 2.5817587838131664e-15)\n"
     ]
    }
   ],
   "source": [
    "lamb = 1\n",
    "res = scipy.integrate.quad(user_function,1,2)\n",
    "print(res)"
   ]
  },
  {
   "cell_type": "code",
   "execution_count": 16,
   "id": "f97a0a5d",
   "metadata": {},
   "outputs": [
    {
     "name": "stdout",
     "output_type": "stream",
     "text": [
      "(0.24127077151901258, 2.678643657094832e-15)\n"
     ]
    }
   ],
   "source": [
    "lamb = 0.9\n",
    "res = scipy.integrate.quad(user_function,1,2)\n",
    "print(res)"
   ]
  },
  {
   "cell_type": "code",
   "execution_count": 17,
   "id": "de2d5458",
   "metadata": {},
   "outputs": [
    {
     "name": "stdout",
     "output_type": "stream",
     "text": [
      "(0.23865121854119112, 2.6495607767928046e-15)\n"
     ]
    }
   ],
   "source": [
    "lamb = 0.5\n",
    "res = scipy.integrate.quad(user_function,1,2)\n",
    "print(res)"
   ]
  }
 ],
 "metadata": {
  "kernelspec": {
   "display_name": "Python 3 (ipykernel)",
   "language": "python",
   "name": "python3"
  },
  "language_info": {
   "codemirror_mode": {
    "name": "ipython",
    "version": 3
   },
   "file_extension": ".py",
   "mimetype": "text/x-python",
   "name": "python",
   "nbconvert_exporter": "python",
   "pygments_lexer": "ipython3",
   "version": "3.10.8"
  }
 },
 "nbformat": 4,
 "nbformat_minor": 5
}
