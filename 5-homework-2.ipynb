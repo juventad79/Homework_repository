{
 "cells": [
  {
   "cell_type": "code",
   "execution_count": null,
   "id": "8867ef0c-d7f0-4d80-a8d5-1d2558c8792c",
   "metadata": {},
   "outputs": [],
   "source": [
    "# нет информации (пол, возраст)"
   ]
  },
  {
   "cell_type": "code",
   "execution_count": 1,
   "id": "5f2c09f0-c54a-4540-9162-d0e5948c8355",
   "metadata": {},
   "outputs": [
    {
     "name": "stdout",
     "output_type": "stream",
     "text": [
      "нет информации о возрасте у 177 человек\n",
      "нет информации о поле у 0 человек\n"
     ]
    }
   ],
   "source": [
    "import pandas as pd\n",
    "df = pd.read_csv('data/train.csv')\n",
    "##нет информации\n",
    "agenull = len(df[ df['Age'].isnull()])\n",
    "print('нет информации о возрасте у '+ str(agenull)+' человек')\n",
    "sexnull = len(df[ df['Sex'].isnull()])\n",
    "print('нет информации о поле у '+ str(sexnull)+' человек')"
   ]
  },
  {
   "cell_type": "code",
   "execution_count": null,
   "id": "d87587d2-7df0-4127-b8cb-04260fdd2d60",
   "metadata": {},
   "outputs": [],
   "source": [
    "# Вывести гистограмму по возрасту пассажиров"
   ]
  },
  {
   "cell_type": "code",
   "execution_count": 2,
   "id": "25872c42-6cb3-47f3-8cc0-402db744dbde",
   "metadata": {},
   "outputs": [
    {
     "data": {
      "text/plain": [
       "<seaborn.axisgrid.FacetGrid at 0x25399f66050>"
      ]
     },
     "execution_count": 2,
     "metadata": {},
     "output_type": "execute_result"
    },
    {
     "data": {
      "image/png": "[encoded data removed]",
      "text/plain": [
       "<Figure size 500x500 with 1 Axes>"
      ]
     },
     "metadata": {},
     "output_type": "display_data"
    }
   ],
   "source": [
    "import seaborn as sns\n",
    "import matplotlib.pyplot as plt\n",
    "import numpy as np\n",
    "import pandas as pd\n",
    "df = pd.read_csv('data/train.csv')\n",
    "\n",
    "sns.displot(df,x='Age')"
   ]
  },
  {
   "cell_type": "code",
   "execution_count": null,
   "id": "555a1baf-ed0d-4985-a32e-612aa14b9255",
   "metadata": {},
   "outputs": [],
   "source": [
    "#Посчитать, какой процент мужчин и женщин выжили, какой процент детей выжили."
   ]
  },
  {
   "cell_type": "code",
   "execution_count": 10,
   "id": "efcebe72",
   "metadata": {},
   "outputs": [
    {
     "name": "stdout",
     "output_type": "stream",
     "text": [
      "Процент выживших мужчин: 18\n",
      "Процент выживших женщин: 78\n",
      "Процент выживших детей: 50\n"
     ]
    }
   ],
   "source": [
    "import pandas as pd\n",
    "df = pd.read_csv('data/train.csv')\n",
    "\n",
    "male = len( df[ (df['Age'] > 18) & (df['Sex'] == 'male') ] )\n",
    "male_survived = len( df[ (df['Age'] > 18) & (df['Sex'] == 'male') & (df['Survived'] == 1) ] )\n",
    "print('Процент выживших мужчин: '+ str(round(male_survived * 100 / male)))\n",
    "\n",
    "female = len( df[ (df['Age'] > 18) & (df['Sex'] == 'female') ] )\n",
    "female_survived = len( df[ (df['Age'] > 18) & (df['Sex'] == 'female') & (df['Survived'] == 1) ] )\n",
    "print('Процент выживших женщин: '+ str(round(female_survived * 100 / female)))\n",
    "\n",
    "child = len( df[ (df['Age'] >=0) & (df['Age'] <= 18)  ] )\n",
    "child_survived = len( df[ (df['Age'] >=0) & (df['Age'] <= 18) & (df['Survived'] == 1) ] )\n",
    "print('Процент выживших детей: '+ str(round(child_survived * 100 / child)))"
   ]
  }
 ],
 "metadata": {
  "kernelspec": {
   "display_name": "Python 3 (ipykernel)",
   "language": "python",
   "name": "python3"
  },
  "language_info": {
   "codemirror_mode": {
    "name": "ipython",
    "version": 3
   },
   "file_extension": ".py",
   "mimetype": "text/x-python",
   "name": "python",
   "nbconvert_exporter": "python",
   "pygments_lexer": "ipython3",
   "version": "3.10.8"
  }
 },
 "nbformat": 4,
 "nbformat_minor": 5
}
