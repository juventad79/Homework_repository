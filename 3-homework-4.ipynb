{
 "cells": [
  {
   "cell_type": "code",
   "execution_count": null,
   "id": "8867ef0c-d7f0-4d80-a8d5-1d2558c8792c",
   "metadata": {},
   "outputs": [],
   "source": [
    "# easy функция записи в json файл"
   ]
  },
  {
   "cell_type": "code",
   "execution_count": 21,
   "id": "5f2c09f0-c54a-4540-9162-d0e5948c8355",
   "metadata": {},
   "outputs": [
    {
     "name": "stdin",
     "output_type": "stream",
     "text": [
      "Введите логин juv\n",
      "Введите пароль 123\n"
     ]
    }
   ],
   "source": [
    "import json\n",
    "\n",
    "# записываем в файл\n",
    "def register(login, passwd):    \n",
    "    user[login] = passwd\n",
    "    with open('users.json','w') as f:\n",
    "        json.dump(user, f)     \n",
    "\n",
    "user = {}\n",
    "plogin = input('Введите логин')\n",
    "ppasswd = input('Введите пароль')\n",
    "register(plogin, ppasswd)\n"
   ]
  },
  {
   "cell_type": "code",
   "execution_count": null,
   "id": "d87587d2-7df0-4127-b8cb-04260fdd2d60",
   "metadata": {},
   "outputs": [],
   "source": [
    "# normal Функция проверки пользователя в системе"
   ]
  },
  {
   "cell_type": "code",
   "execution_count": 12,
   "id": "25872c42-6cb3-47f3-8cc0-402db744dbde",
   "metadata": {},
   "outputs": [
    {
     "name": "stdout",
     "output_type": "stream",
     "text": [
      "{'juventa': '123', 'daddy': '123'}\n"
     ]
    },
    {
     "name": "stdin",
     "output_type": "stream",
     "text": [
      "Введите логин daddy\n",
      "Введите пароль 123\n"
     ]
    },
    {
     "name": "stdout",
     "output_type": "stream",
     "text": [
      "Пользователь с таким именем существует\n"
     ]
    }
   ],
   "source": [
    "import json\n",
    "\n",
    "# записываем в файл\n",
    "def register(login, passwd):    \n",
    "    user[login] = passwd\n",
    "    with open('users.json','w') as f:\n",
    "        json.dump( user, f )\n",
    "        \n",
    "# считываем из файла\n",
    "def read_file():  \n",
    "    with open('users.json','r') as f:\n",
    "        user = json.load(f)\n",
    "    return user\n",
    "\n",
    "def check_login(login):\n",
    "    ret = 0\n",
    "    if login not in user:\n",
    "        ret = 1\n",
    "    return ret\n",
    "\n",
    "read_file()\n",
    "print(user)\n",
    "\n",
    "plogin = input('Введите логин')\n",
    "ppasswd = input('Введите пароль')\n",
    "if not check_login(plogin):\n",
    "    print('Пользователь с таким именем существует')\n",
    "else: register(plogin, ppasswd)"
   ]
  },
  {
   "cell_type": "code",
   "execution_count": null,
   "id": "9bf7a843-b47d-4a8e-8432-0f52ea1a65c9",
   "metadata": {},
   "outputs": [],
   "source": [
    "# hard "
   ]
  },
  {
   "cell_type": "code",
   "execution_count": 19,
   "id": "471519e6-1bff-4db7-96cc-9236ad578f25",
   "metadata": {},
   "outputs": [
    {
     "name": "stdin",
     "output_type": "stream",
     "text": [
      "Введите логин juventa\n",
      "Введите пароль 123\n"
     ]
    },
    {
     "name": "stdout",
     "output_type": "stream",
     "text": [
      "Вход в систему разрешен\n"
     ]
    }
   ],
   "source": [
    "import json\n",
    "\n",
    "# считываем из файла\n",
    "def read_file():  \n",
    "    with open('users.json','r') as f:\n",
    "        user = json.load(f)\n",
    "    return user\n",
    "\n",
    "def check_user(login, passwd):\n",
    "    if login not in user:\n",
    "        print('Пользователь не найден')\n",
    "    elif user.get(login) == passwd:\n",
    "        print('Вход в систему разрешен')\n",
    "    else: print('Не правильный пароль')\n",
    "     \n",
    "read_file()\n",
    "plogin = input('Введите логин') \n",
    "ppasswd = input('Введите пароль')\n",
    "check_user( plogin, ppasswd )\n"
   ]
  },
  {
   "cell_type": "code",
   "execution_count": null,
   "id": "555a1baf-ed0d-4985-a32e-612aa14b9255",
   "metadata": {},
   "outputs": [],
   "source": []
  }
 ],
 "metadata": {
  "kernelspec": {
   "display_name": "Python 3 (ipykernel)",
   "language": "python",
   "name": "python3"
  },
  "language_info": {
   "codemirror_mode": {
    "name": "ipython",
    "version": 3
   },
   "file_extension": ".py",
   "mimetype": "text/x-python",
   "name": "python",
   "nbconvert_exporter": "python",
   "pygments_lexer": "ipython3",
   "version": "3.10.8"
  }
 },
 "nbformat": 4,
 "nbformat_minor": 5
}
