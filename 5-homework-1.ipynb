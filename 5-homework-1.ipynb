{
 "cells": [
  {
   "cell_type": "code",
   "execution_count": null,
   "id": "8867ef0c-d7f0-4d80-a8d5-1d2558c8792c",
   "metadata": {},
   "outputs": [],
   "source": [
    "# процент детей меньше 18"
   ]
  },
  {
   "cell_type": "code",
   "execution_count": 18,
   "id": "5f2c09f0-c54a-4540-9162-d0e5948c8355",
   "metadata": {},
   "outputs": [
    {
     "name": "stdout",
     "output_type": "stream",
     "text": [
      "Процент детей на ботру 19.47\n"
     ]
    }
   ],
   "source": [
    "import pandas as pd\n",
    "df = pd.read_csv('data/train.csv')\n",
    "# людей с определеннм возрастом\n",
    "allnotnull = len(df[ df['Age'].notnull()])\n",
    "#дети\n",
    "allchild = len(df[ (df['Age'] >=0) & (df['Age'] <= 18) ])\n",
    "\n",
    "percent_child = round( allchild * 100 / allnotnull, 2)\n",
    "print('Процент детей на ботру ' + str(percent_child) )"
   ]
  },
  {
   "cell_type": "code",
   "execution_count": null,
   "id": "d87587d2-7df0-4127-b8cb-04260fdd2d60",
   "metadata": {},
   "outputs": [],
   "source": [
    "# соотношение мужчин/женщин"
   ]
  },
  {
   "cell_type": "code",
   "execution_count": 17,
   "id": "25872c42-6cb3-47f3-8cc0-402db744dbde",
   "metadata": {},
   "outputs": [
    {
     "name": "stdout",
     "output_type": "stream",
     "text": [
      "Соотношение мужчин/женщин 1.98\n"
     ]
    }
   ],
   "source": [
    "import pandas as pd\n",
    "df = pd.read_csv('data/train.csv')\n",
    "male = len(df[ (df['Age'] > 18) & (df['Sex'] == 'male') ]) \n",
    "female = len(df[ (df['Age'] > 18) & (df['Sex'] == 'female') ]) \n",
    "print('Соотношение мужчин/женщин ' + str(round( male/female, 2)) )"
   ]
  },
  {
   "cell_type": "code",
   "execution_count": null,
   "id": "555a1baf-ed0d-4985-a32e-612aa14b9255",
   "metadata": {},
   "outputs": [],
   "source": []
  }
 ],
 "metadata": {
  "kernelspec": {
   "display_name": "Python 3 (ipykernel)",
   "language": "python",
   "name": "python3"
  },
  "language_info": {
   "codemirror_mode": {
    "name": "ipython",
    "version": 3
   },
   "file_extension": ".py",
   "mimetype": "text/x-python",
   "name": "python",
   "nbconvert_exporter": "python",
   "pygments_lexer": "ipython3",
   "version": "3.10.8"
  }
 },
 "nbformat": 4,
 "nbformat_minor": 5
}
