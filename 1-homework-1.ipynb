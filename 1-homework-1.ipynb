{
 "cells": [
  {
   "cell_type": "code",
   "execution_count": null,
   "id": "e5b83e48",
   "metadata": {},
   "outputs": [],
   "source": [
    "# Easy Вычислить значения"
   ]
  },
  {
   "cell_type": "code",
   "execution_count": null,
   "id": "a499a9e8",
   "metadata": {},
   "outputs": [],
   "source": [
    "value=(5+7*5/8)/3**5\n",
    "print(value)"
   ]
  },
  {
   "cell_type": "code",
   "execution_count": null,
   "id": "89609fb9",
   "metadata": {},
   "outputs": [],
   "source": [
    "# Nomal Определить на какой отметке остановится байкер"
   ]
  },
  {
   "cell_type": "code",
   "execution_count": null,
   "id": "5b30f321",
   "metadata": {},
   "outputs": [],
   "source": [
    "smax=109\n",
    "v=int(input('Введите скорость движения  '))\n",
    "t=int(input('Введите время движения  '))\n",
    "s=v*t\n",
    "s= v*t -(s>smax)*109\n",
    "print('Байкер Вася остановится на отметке: ',s)"
   ]
  },
  {
   "cell_type": "code",
   "execution_count": null,
   "id": "f14d3107",
   "metadata": {},
   "outputs": [],
   "source": [
    "# Hard Нахождение наибольшего числа из двух"
   ]
  },
  {
   "cell_type": "code",
   "execution_count": null,
   "id": "e1ec37ea",
   "metadata": {},
   "outputs": [],
   "source": [
    "i1=float(input('Введите число '))\n",
    "i2=float(input('Введите число '))\n",
    "i=(i1<i2)*i2+(i1>i2)*i1\n",
    "print(i)   "
   ]
  }
 ],
 "metadata": {
  "kernelspec": {
   "display_name": "Python 3 (ipykernel)",
   "language": "python",
   "name": "python3"
  },
  "language_info": {
   "codemirror_mode": {
    "name": "ipython",
    "version": 3
   },
   "file_extension": ".py",
   "mimetype": "text/x-python",
   "name": "python",
   "nbconvert_exporter": "python",
   "pygments_lexer": "ipython3",
   "version": "3.10.8"
  }
 },
 "nbformat": 4,
 "nbformat_minor": 5
}
