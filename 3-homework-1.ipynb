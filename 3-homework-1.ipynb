{
 "cells": [
  {
   "cell_type": "code",
   "execution_count": null,
   "id": "8b7c2217-0f99-4b44-854f-8f9d38db54c2",
   "metadata": {},
   "outputs": [],
   "source": [
    "# easy Вычисление через сколько лет вклад в банке даст необходимую сумму"
   ]
  },
  {
   "cell_type": "code",
   "execution_count": 5,
   "id": "3945a294-4534-4aa3-b6fd-9519a29bd17a",
   "metadata": {},
   "outputs": [
    {
     "name": "stdin",
     "output_type": "stream",
     "text": [
      "Введите сумму первоначального вклада 1000\n",
      "Введите величину процента 12\n",
      "Введите необходимую сумму 3000\n"
     ]
    },
    {
     "name": "stdout",
     "output_type": "stream",
     "text": [
      "10  лет необходимо\n"
     ]
    }
   ],
   "source": [
    "ix = float(input('Введите сумму первоначального вклада'))\n",
    "ip = float(input('Введите величину процента'))\n",
    "iy = float(input('Введите необходимую сумму'))\n",
    "i = 0\n",
    "while ix < iy:\n",
    "    i += 1\n",
    "    ix += int(ix*ip/100) \n",
    "if i == 1: s = ' год необходимо'\n",
    "elif (i >= 2) & (i <= 4): s = ' года необходимо'\n",
    "else: s = ' лет необходимо'\n",
    "print(str(i),s)"
   ]
  },
  {
   "cell_type": "code",
   "execution_count": null,
   "id": "1bf2523c-0732-4cd2-b1a1-936e784caa73",
   "metadata": {},
   "outputs": [],
   "source": [
    "# normal Цикл while"
   ]
  },
  {
   "cell_type": "code",
   "execution_count": 6,
   "id": "474f9619-ec76-42ff-8ae9-b2419f6a5f83",
   "metadata": {},
   "outputs": [
    {
     "name": "stdin",
     "output_type": "stream",
     "text": [
      "Введите число повторений 3\n"
     ]
    },
    {
     "name": "stdout",
     "output_type": "stream",
     "text": [
      "for - частный случай цикла while\n",
      "for - частный случай цикла while\n",
      "for - частный случай цикла while\n"
     ]
    }
   ],
   "source": [
    "n = int(input('Введите число повторений'))\n",
    "i = 0\n",
    "while i < n:\n",
    "    print('for - частный случай цикла while')\n",
    "    i += 1"
   ]
  },
  {
   "cell_type": "code",
   "execution_count": null,
   "id": "b4eca921-d82f-4408-806a-815adb31120b",
   "metadata": {},
   "outputs": [],
   "source": [
    "# hard Сумма чисел введенного числа"
   ]
  },
  {
   "cell_type": "code",
   "execution_count": 7,
   "id": "a17a1cd8-1b5e-43ac-b228-d86eaa1da06d",
   "metadata": {},
   "outputs": [
    {
     "name": "stdin",
     "output_type": "stream",
     "text": [
      "Введите число 592\n"
     ]
    },
    {
     "name": "stdout",
     "output_type": "stream",
     "text": [
      "Сумма цифр числа  592  = 16\n"
     ]
    }
   ],
   "source": [
    "n = input('Введите число')\n",
    "summ = 0\n",
    "for i in range(0 , len(n)):   \n",
    "    summ += int(n[i])\n",
    "print('Сумма цифр числа ',n,' =',str(summ))"
   ]
  },
  {
   "cell_type": "code",
   "execution_count": null,
   "id": "d0e9742a-2739-4a5f-b46b-209714bf5087",
   "metadata": {},
   "outputs": [],
   "source": []
  }
 ],
 "metadata": {
  "kernelspec": {
   "display_name": "Python 3 (ipykernel)",
   "language": "python",
   "name": "python3"
  },
  "language_info": {
   "codemirror_mode": {
    "name": "ipython",
    "version": 3
   },
   "file_extension": ".py",
   "mimetype": "text/x-python",
   "name": "python",
   "nbconvert_exporter": "python",
   "pygments_lexer": "ipython3",
   "version": "3.10.8"
  }
 },
 "nbformat": 4,
 "nbformat_minor": 5
}
