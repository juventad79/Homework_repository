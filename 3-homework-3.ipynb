{
 "cells": [
  {
   "cell_type": "code",
   "execution_count": null,
   "id": "835eabaa-7449-4ad1-96c2-1bbcd02c6469",
   "metadata": {},
   "outputs": [],
   "source": [
    "# easy Рассчет площади треугольника по трем сторонам"
   ]
  },
  {
   "cell_type": "code",
   "execution_count": 1,
   "id": "fa878084-8e75-4b71-9539-d8824480be05",
   "metadata": {},
   "outputs": [
    {
     "name": "stdin",
     "output_type": "stream",
     "text": [
      " 5\n",
      " 6\n",
      " 7\n"
     ]
    },
    {
     "name": "stdout",
     "output_type": "stream",
     "text": [
      "14.7\n"
     ]
    }
   ],
   "source": [
    "import math\n",
    "def area(a, b, c):\n",
    "    per = float((a + b + c)/ 2)\n",
    "    result= math.sqrt(per*(per-a)*(per-b)*(per-c))\n",
    "    return result\n",
    "\n",
    "x = float(input(''))\n",
    "y = float(input(''))\n",
    "z = float(input(''))\n",
    "print(round(area(x,y,z),2))"
   ]
  },
  {
   "cell_type": "code",
   "execution_count": 2,
   "id": "415b23c9-6d9b-4536-be97-23a3e67edf90",
   "metadata": {},
   "outputs": [],
   "source": [
    " # normal Вывод слов в строке, длина которых меньше 5"
   ]
  },
  {
   "cell_type": "code",
   "execution_count": 3,
   "id": "e193856a-bc87-4e67-a3cd-8a92c250359f",
   "metadata": {},
   "outputs": [
    {
     "name": "stdout",
     "output_type": "stream",
     "text": [
      "['было', 'дуло', 'с', 'а', 'к', 'сто', 'так', 'ноль', 'то', 'ли', 'весь', 'мир', 'с', 'ума', 'то', 'ли', 'я', 'того', 'на', 'от', 'неё', 'с', 'в', 'окно', 'жжёт', 'на', 'нас', 'если', 'как', 'жить', 'живи', 'ты', 'как', 'все', 'так']\n"
     ]
    }
   ],
   "source": [
    "def strlessfive(stroka):\n",
    "    stroka = s.split()    \n",
    "    result = []\n",
    "    for i in stroka:\n",
    "        if i.endswith('...'):\n",
    "            i = i[:-3]\n",
    "        if i.endswith(',')|i.endswith('.'):\n",
    "            i = i[:-1]\n",
    "        if (i!='-') & (len(i) < 5):\n",
    "            result.append(i.lower())\n",
    "    return result\n",
    "\n",
    "s = '''Было просто пасмурно, дуло с севера\n",
    "А к обеду насчитал сто градаций серого.\n",
    "Так всегда первого ноль девятого\n",
    "То ли весь мир сошёл с ума, то ли я - того...\n",
    "На столе записка от неё смятая\n",
    "Недопитый виски допиваю с матами.\n",
    "Посмотрю в окно, допишу главу\n",
    "Первое сентября, дворник жжёт листву.\n",
    "Серым облакам наплевать на нас\n",
    "Если знаешь как жить - живи\n",
    "Ты хотела плять как все - так плыви'''\n",
    "\n",
    "print(strlessfive(s))"
   ]
  },
  {
   "cell_type": "code",
   "execution_count": null,
   "id": "c68b32c9-c0c4-428a-9ae9-a9ed58b4ba41",
   "metadata": {},
   "outputs": [],
   "source": [
    "# hard максимальное число из массива чисел"
   ]
  },
  {
   "cell_type": "code",
   "execution_count": 5,
   "id": "e6407393-eb85-4cea-880d-f5396048dc10",
   "metadata": {},
   "outputs": [
    {
     "name": "stdout",
     "output_type": "stream",
     "text": [
      "['56', '9', '11', '2', '98', '987']\n",
      "['9', '98', '987', '56', '2', '11']\n",
      "Максимальное число: 99898756211\n"
     ]
    }
   ],
   "source": [
    "from random import randrange\n",
    "\n",
    "list_random = [\"56\" , \"9\" , \"11\" ,\"2\",\"98\",\"987\"]\n",
    "\n",
    "len_list = len(list_random)\n",
    "\n",
    "# Сравнение двух чисел\n",
    "def compare_two_value(value1, value2):\n",
    "    if(len(value1) > len(value2)): #Вычисляем \n",
    "        len_min = len(value2)\n",
    "    else:\n",
    "        len_min = len(value1)\n",
    "    \n",
    "    for i in range(len_min):\n",
    "        if int(value1[i]) == int(value2[i]):\n",
    "            continue # Прерываем итерацию цикла и продолжаем цикл в новой итерации \n",
    "        elif int(value1[i]) > int(value2[i]):\n",
    "            return 1 # Возвращаем индекс большего числе\n",
    "        else:\n",
    "            return 2 # Возвращаем индекс большего числе\n",
    "\n",
    "# Тут числа по циклу равны \n",
    "    if len(value1) == len(value2):\n",
    "        return 2 # Тут все равно какой  индект числа возвращать, главное минимизировать перестановки\n",
    "    elif  len(value1) > len(value2):\n",
    "        return 2 # Считаем что меньшее по разрядности число имеет больший вес\n",
    "    else:\n",
    "        return 1\n",
    "\n",
    "#Упорядычивание списка методом \"пузырька\"\n",
    "def order_list_bubble(list_random): \n",
    "    for i in range(len_list):\n",
    "        for j in range(len_list - 1 - i):\n",
    "            if compare_two_value(list_random[j],list_random[j+1]) == 2:\n",
    "                # Меняем местами - пузырек всплывает (влево)\n",
    "                temp = list_random[j+1]\n",
    "                list_random[j+1] = list_random[j]\n",
    "                list_random[j] = temp\n",
    "\n",
    "print(list_random)\n",
    "order_list_bubble(list_random) # Упорядычиваем список\n",
    "print(list_random)\n",
    "\n",
    "string_num = str()\n",
    "for i in list_random:\n",
    "    string_num += i\n",
    "\n",
    "print(\"Максимальное число:\", int(string_num))\n",
    "\n",
    "# Вывод \n",
    "# ['56', '9', '11', '2', '98', '987']\n",
    "# ['9', '98', '987', '56', '2', '11']\n",
    "# Максимальное число: 99898756211"
   ]
  },
  {
   "cell_type": "code",
   "execution_count": null,
   "id": "93cac317-7d04-4adf-9a4d-585483959dbf",
   "metadata": {},
   "outputs": [],
   "source": []
  }
 ],
 "metadata": {
  "kernelspec": {
   "display_name": "Python 3 (ipykernel)",
   "language": "python",
   "name": "python3"
  },
  "language_info": {
   "codemirror_mode": {
    "name": "ipython",
    "version": 3
   },
   "file_extension": ".py",
   "mimetype": "text/x-python",
   "name": "python",
   "nbconvert_exporter": "python",
   "pygments_lexer": "ipython3",
   "version": "3.10.8"
  }
 },
 "nbformat": 4,
 "nbformat_minor": 5
}
